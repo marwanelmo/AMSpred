{
 "cells": [
  {
   "cell_type": "code",
   "execution_count": null,
   "metadata": {},
   "outputs": [],
   "source": [
    "import pandas as pd\n",
    "import matplotlib.pyplot as plt\n",
    "import seaborn as sns\n",
    "\n",
    "# Load your dataset\n",
    "df = pd.read_csv('export/processeddata.csv', delimiter=';')\n",
    "# Set the aesthetic style of the plots\n",
    "sns.set_style(\"whitegrid\")\n",
    "import numpy as np\n",
    "\n",
    "\n",
    "# Stel df is je DataFrame\n",
    "df.replace([np.inf, -np.inf], np.nan, inplace=True)  # Vervang oneindige waarden door NaN\n",
    "#df.dropna(inplace=True)  # Verwijder rijen met NaN-waarden\n"
   ]
  },
  {
   "cell_type": "code",
   "execution_count": null,
   "metadata": {},
   "outputs": [],
   "source": [
    "import matplotlib.pyplot as plt\n",
    "\n",
    "plt.figure(figsize=(12, 6))\n",
    "\n",
    "# Histogram voor leeftijd\n",
    "plt.subplot(1, 2, 1)  # 1 rij, 2 kolommen, 1e plot\n",
    "plt.hist(df['T0_age'].dropna(), bins=20, color='skyblue', edgecolor='black')\n",
    "plt.title('Histogram van Leeftijd')\n",
    "plt.xlabel('Leeftijd')\n",
    "plt.ylabel('Aantal')\n",
    "\n",
    "# Histogram voor gewicht\n",
    "plt.subplot(1, 2, 2)  # 1 rij, 2 kolommen, 2e plot\n",
    "plt.hist(df['T0_Weight_kg'].dropna(), bins=20, color='lightgreen', edgecolor='black')\n",
    "plt.title('Histogram van Gewicht')\n",
    "plt.xlabel('Gewicht (kg)')\n",
    "plt.ylabel('Aantal')\n",
    "\n",
    "plt.tight_layout()\n",
    "plt.show()\n"
   ]
  },
  {
   "cell_type": "code",
   "execution_count": null,
   "metadata": {},
   "outputs": [],
   "source": [
    "# Eerst berekenen we de frequentie van elk kankerstadium\n",
    "cancer_stage_counts = df['T0_CancerStage'].value_counts().sort_index()\n",
    "\n",
    "# Dan genereren we de barchart\n",
    "plt.figure(figsize=(10, 6))\n",
    "cancer_stage_counts.plot(kind='bar', color='#74a9cf')  # Zachtere kleur blauw\n",
    "plt.title('Distributie van Kankerstadium', fontsize=16, fontweight='bold')\n",
    "plt.xlabel('Kankerstadium', fontsize=14)\n",
    "plt.ylabel('Aantal', fontsize=14)\n",
    "plt.xticks(rotation=0, fontsize=12)\n",
    "plt.yticks(fontsize=12)\n",
    "plt.grid(axis='y', linestyle='--', alpha=0.7)  # Behoud alleen horizontale gridlijnen\n",
    "\n",
    "# Verwijder expliciet de verticale gridlijnen\n",
    "plt.gca().xaxis.grid(False)\n",
    "\n",
    "plt.tight_layout()\n",
    "plt.show()"
   ]
  },
  {
   "cell_type": "code",
   "execution_count": null,
   "metadata": {},
   "outputs": [],
   "source": [
    "import matplotlib.pyplot as plt\n",
    "import pandas as pd\n",
    "\n",
    "# Lees de dataset in (ervan uitgaande dat deze al is ingeladen als df)\n",
    "# df = pd.read_csv('pad_naar_je_dataset.csv', sep=';')\n",
    "\n",
    "# Zet 'T0_CancerStage' om naar een categorische variabele\n",
    "df['T0_CancerStage_cat'] = df['T0_CancerStage'].astype('category')\n",
    "\n",
    "# Filter de dataset voor mannen en vrouwen\n",
    "df_men = df[df['pat_sexe'] == 1]\n",
    "df_women = df[df['pat_sexe'] == 0]\n",
    "\n",
    "# Update de categorieën voor mannen en vrouwen met de nieuwe categorische variabele\n",
    "cancer_stage_counts_men_cat = df_men['T0_CancerStage_cat'].value_counts().sort_index()\n",
    "cancer_stage_counts_women_cat = df_women['T0_CancerStage_cat'].value_counts().sort_index()\n",
    "\n",
    "# Genereren van de barcharts onder elkaar met de categorische aanpak\n",
    "fig, axs = plt.subplots(2, 1, figsize=(10, 12))  # 2 plots verticaal gestapeld\n",
    "\n",
    "# Mannen\n",
    "axs[0].bar(cancer_stage_counts_men_cat.index.astype(str), cancer_stage_counts_men_cat.values, color='#74a9cf')\n",
    "axs[0].set_title('Distributie van Kankerstadium bij Mannen', fontsize=16, fontweight='bold')\n",
    "axs[0].set_xlabel('Kankerstadium', fontsize=14)\n",
    "axs[0].set_ylabel('Aantal', fontsize=14)\n",
    "axs[0].grid(axis='y', linestyle='--', alpha=0.7)\n",
    "axs[0].xaxis.grid(False)  # Verwijder verticale gridlijnen\n",
    "\n",
    "# Vrouwen\n",
    "axs[1].bar(cancer_stage_counts_women_cat.index.astype(str), cancer_stage_counts_women_cat.values, color='#f99')\n",
    "axs[1].set_title('Distributie van Kankerstadium bij Vrouwen', fontsize=16, fontweight='bold')\n",
    "axs[1].set_xlabel('Kankerstadium', fontsize=14)\n",
    "axs[1].set_ylabel('Aantal', fontsize=14)\n",
    "axs[1].grid(axis='y', linestyle='--', alpha=0.7)\n",
    "axs[1].xaxis.grid(False)  # Verwijder verticale gridlijnen\n",
    "\n",
    "plt.tight_layout()\n",
    "plt.show()\n"
   ]
  },
  {
   "cell_type": "code",
   "execution_count": null,
   "metadata": {},
   "outputs": [],
   "source": [
    "# Creëren van een nieuwe variabele met alle NaNs verwijderd uit df['T0']\n",
    "df_T0_clean = df['T0'].dropna()\n",
    "\n",
    "# Histogram van de schone T0 variabele\n",
    "plt.figure(figsize=(10, 6))\n",
    "plt.hist(df_T0_clean)\n",
    "sns.histplot(df_T0_clean, kde=True, color='skyblue')\n",
    "plt.title('Distributie van T0 zonder NaNs')\n",
    "plt.xlabel('T0')\n",
    "plt.ylabel('Frequentie')\n",
    "plt.show()\n"
   ]
  }
 ],
 "metadata": {
  "kernelspec": {
   "display_name": "base",
   "language": "python",
   "name": "python3"
  },
  "language_info": {
   "codemirror_mode": {
    "name": "ipython",
    "version": 3
   },
   "file_extension": ".py",
   "mimetype": "text/x-python",
   "name": "python",
   "nbconvert_exporter": "python",
   "pygments_lexer": "ipython3",
   "version": "3.9.13"
  }
 },
 "nbformat": 4,
 "nbformat_minor": 2
}
