{
 "cells": [
  {
   "cell_type": "code",
   "execution_count": null,
   "metadata": {},
   "outputs": [],
   "source": [
    "import pandas as pd\n",
    "import numpy as np"
   ]
  },
  {
   "cell_type": "code",
   "execution_count": null,
   "metadata": {},
   "outputs": [],
   "source": [
    "Castor = pd.read_csv('Castor/Dataset_OPRAH_Predictie_tmT5_190424.csv')\n",
    "remove_cols = pd.read_csv('Castor/Castor_delete.csv', sep='\\t', header=None).iloc[0].to_list()\n",
    "\n",
    "\n",
    "rows = Castor['Participant Status.x'] == \"Onderzoek afgerond\"\n",
    "Castor = Castor[rows]\n",
    "\n",
    "Castor.drop(columns=remove_cols, inplace=True)"
   ]
  },
  {
   "cell_type": "code",
   "execution_count": null,
   "metadata": {},
   "outputs": [],
   "source": [
    "Castor.columns.to_list()"
   ]
  }
 ],
 "metadata": {
  "kernelspec": {
   "display_name": "base",
   "language": "python",
   "name": "python3"
  },
  "language_info": {
   "codemirror_mode": {
    "name": "ipython",
    "version": 3
   },
   "file_extension": ".py",
   "mimetype": "text/x-python",
   "name": "python",
   "nbconvert_exporter": "python",
   "pygments_lexer": "ipython3",
   "version": "3.9.13"
  }
 },
 "nbformat": 4,
 "nbformat_minor": 2
}
