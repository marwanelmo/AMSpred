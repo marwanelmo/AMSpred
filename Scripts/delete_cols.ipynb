{
 "cells": [
  {
   "cell_type": "code",
   "execution_count": null,
   "metadata": {},
   "outputs": [],
   "source": [
    "import pandas as pd\n",
    "import numpy as np"
   ]
  },
  {
   "cell_type": "code",
   "execution_count": null,
   "metadata": {},
   "outputs": [],
   "source": [
    "# df = pd.read_csv('../Data/Castor/Dataset_OPRAH_Predictie_tmT5_190424.csv')\n",
    "df = pd.read_csv('../Data/Castor/Dataset_OPRAH_Predictie_tmT5_190424.csv')\n",
    "df.head()"
   ]
  },
  {
   "cell_type": "code",
   "execution_count": null,
   "metadata": {},
   "outputs": [],
   "source": [
    "df = pd.read_csv('../Data/Castor/Dataset_OPRAH_Predictie_tmT5_190424.csv')\n",
    "desired_columns = pd.read_csv('../Data/Castor/Castor_delete.csv', sep=',', header=None).iloc[0].to_list()\n",
    "# rows = Castor['Participant Status.x'] == \"Onderzoek afgerond\"\n",
    "#Castor = Castor[rows]\n",
    "\n",
    "# Columns that exist in the dataframe\n",
    "existing_columns = [col for col in desired_columns if col in df.columns]\n",
    "\n",
    "# Columns that are missing\n",
    "missing_columns = [col for col in desired_columns if col not in df.columns]\n",
    "\n",
    "# Select the existing columns from the dataframe\n",
    "selected_df = df[existing_columns]\n",
    "\n",
    "# Optionally, you can store the missing columns in a list for further processing\n",
    "missing_columns_list = missing_columns\n",
    "#selected_df.to_csv('../Export/Voorspellers.csv', sep=';', index=False)\n",
    "# Castor.to_csv('../Export/Voorspellers.csv', sep=';', index=False)"
   ]
  },
  {
   "cell_type": "code",
   "execution_count": null,
   "metadata": {},
   "outputs": [],
   "source": [
    "selected_df"
   ]
  },
  {
   "cell_type": "markdown",
   "metadata": {},
   "source": [
    "### Uitkomstmaat"
   ]
  },
  {
   "cell_type": "code",
   "execution_count": null,
   "metadata": {},
   "outputs": [],
   "source": [
    "Export = pd.read_csv('../Export/processeddata.csv', sep=';')\n",
    "keep_cols = ['identifier', \"T0\",\"T2\",\"T3\",\"T4\",\"T5\",\"T6\",\"T2_relative\",\"T3_relative\",\"T4_relative\",\"T5_relative\",\"T6_relative\"]\n",
    "Export = Export[keep_cols]\n",
    "Export.to_csv('../Export/uitkomstmaat.csv', sep=';', index=False)"
   ]
  }
 ],
 "metadata": {
  "kernelspec": {
   "display_name": "base",
   "language": "python",
   "name": "python3"
  },
  "language_info": {
   "codemirror_mode": {
    "name": "ipython",
    "version": 3
   },
   "file_extension": ".py",
   "mimetype": "text/x-python",
   "name": "python",
   "nbconvert_exporter": "python",
   "pygments_lexer": "ipython3",
   "version": "3.9.13"
  }
 },
 "nbformat": 4,
 "nbformat_minor": 2
}
