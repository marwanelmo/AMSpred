{
 "cells": [
  {
   "cell_type": "code",
   "execution_count": null,
   "metadata": {},
   "outputs": [],
   "source": [
    "# !pip install pyreadstat\n",
    "import pandas as pd\n",
    "import os\n",
    "import matplotlib.pyplot as plt\n",
    "import pyreadstat\n",
    "from functions import process_castor_fysiek, process_castor_baseline, process_castor\n",
    "\n",
    "# !pip install --upgrade openpyxl"
   ]
  },
  {
   "cell_type": "markdown",
   "metadata": {},
   "source": [
    "### Castor"
   ]
  },
  {
   "cell_type": "code",
   "execution_count": null,
   "metadata": {},
   "outputs": [],
   "source": [
    "# Fysiek Vrangelijst\n",
    "castor_baseline = pd.read_excel('../Data/Castor/PROMIS_export_baselinevragenlijsten.xlsx') # extra vragenlijst voorspellers\n",
    "castor_baseline_var = pd.read_excel('../Data/Castor/PROMIS_export_baselinevragenlijsten.xlsx', sheet_name=\"variabelen\", header=None) \n",
    "\n",
    "castor_fysiek = pd.read_excel('../Data/Castor/PROMIS_export_fysiekfunctioneren.xlsx') #uitkomstmaat\n",
    "\n",
    "castor, meta = pyreadstat.read_sav('../Data/Castor/Castor_output_93pt_150124.sav') #patientgegevens\n",
    "castor_var = pd.read_csv('../Data/Castor/Castor_var.csv', header=None)\n",
    "\n",
    "combined_fysiek = process_castor_fysiek(castor_fysiek, False)\n",
    "combined_baseline = process_castor_baseline(castor_baseline,castor_baseline_var)\n",
    "combined_castor = process_castor(castor, castor_var)"
   ]
  },
  {
   "cell_type": "code",
   "execution_count": null,
   "metadata": {},
   "outputs": [],
   "source": [
    "combined_fysiek.to_csv('../Export/Uitkomstmaat.csv', sep=';', index=False)"
   ]
  },
  {
   "cell_type": "code",
   "execution_count": null,
   "metadata": {},
   "outputs": [],
   "source": [
    "combined_baseline"
   ]
  },
  {
   "cell_type": "code",
   "execution_count": null,
   "metadata": {},
   "outputs": [],
   "source": [
    "combined_castor"
   ]
  },
  {
   "cell_type": "code",
   "execution_count": null,
   "metadata": {},
   "outputs": [],
   "source": [
    "combined_fysiek"
   ]
  },
  {
   "cell_type": "code",
   "execution_count": null,
   "metadata": {},
   "outputs": [],
   "source": [
    "# Assuming combined_castor, combined_baseline, and combined_fysiek are your dataframes\n",
    "import pandas as pd\n",
    "\n",
    "# Initial merge between combined_castor and combined_baseline with an 'inner' join\n",
    "merged_df1 = pd.merge(combined_castor, combined_baseline, how='inner', left_on='participant_id', right_on='patientnummer')\n",
    "\n",
    "# Create the 'identifier' column and drop the original identifier columns\n",
    "merged_df1['identifier'] = merged_df1['participant_id'].fillna(merged_df1['patientnummer'])\n",
    "merged_df1.drop(columns=['participant_id', 'patientnummer'], inplace=True)\n",
    "\n",
    "# Reorder columns to make 'identifier' the first column\n",
    "cols = ['identifier'] + [col for col in merged_df1 if col != 'identifier']\n",
    "merged_df1 = merged_df1[cols]\n",
    "\n",
    "# Prepare for the next merge by ensuring there is a common column for joining with combined_fysiek\n",
    "# This implies that combined_fysiek must have an 'identifier' column or a matching column like 'patientnummer'.\n",
    "# For the sake of this example, let's assume we need to rename 'patientnummer' in combined_fysiek to 'identifier'\n",
    "# to match merged_df1. If combined_fysiek already uses 'identifier', this step is not needed.\n",
    "combined_fysiek.rename(columns={'patientnummer': 'identifier'}, inplace=True)\n",
    "\n",
    "# Perform the next merge with an 'inner' join\n",
    "final_merged_df = pd.merge(merged_df1, combined_fysiek, how='inner', on='identifier')\n",
    "\n",
    "final_merged_df.to_excel('../Export/processeddata.xlsx')"
   ]
  },
  {
   "cell_type": "code",
   "execution_count": null,
   "metadata": {},
   "outputs": [],
   "source": [
    "final_merged_df.to_csv('export/processeddata.csv', sep=\";\")"
   ]
  }
 ],
 "metadata": {
  "kernelspec": {
   "display_name": "base",
   "language": "python",
   "name": "python3"
  },
  "language_info": {
   "codemirror_mode": {
    "name": "ipython",
    "version": 3
   },
   "file_extension": ".py",
   "mimetype": "text/x-python",
   "name": "python",
   "nbconvert_exporter": "python",
   "pygments_lexer": "ipython3",
   "version": "3.9.13"
  }
 },
 "nbformat": 4,
 "nbformat_minor": 2
}
